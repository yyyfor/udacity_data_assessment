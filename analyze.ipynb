{
 "cells": [
  {
   "cell_type": "code",
   "execution_count": 39,
   "metadata": {},
   "outputs": [],
   "source": [
    "import pandas as pd\n",
    "import numpy as np\n",
    "import scipy.stats\n",
    "from statistics import NormalDist\n",
    "import statsmodels.api as sm"
   ]
  },
  {
   "cell_type": "code",
   "execution_count": 47,
   "metadata": {},
   "outputs": [],
   "source": [
    "data = pd.read_excel('dataset.xlsx')"
   ]
  },
  {
   "cell_type": "code",
   "execution_count": 8,
   "metadata": {},
   "outputs": [],
   "source": [
    "def mean_confidence_interval(data, confidence=0.95):\n",
    "    a = 1.0 * np.array(data)\n",
    "    n = len(a)\n",
    "    m, se = np.mean(a), scipy.stats.sem(a)\n",
    "    h = se * scipy.stats.t.ppf((1 + confidence) / 2., n-1)\n",
    "    return m, m-h, m+h"
   ]
  },
  {
   "cell_type": "code",
   "execution_count": 9,
   "metadata": {},
   "outputs": [
    {
     "name": "stdout",
     "output_type": "stream",
     "text": [
      "(78509.70297029703, 76435.37114430607, 80584.03479628799)\n"
     ]
    }
   ],
   "source": [
    "print(mean_confidence_interval(data['Salary']))"
   ]
  },
  {
   "cell_type": "code",
   "execution_count": 12,
   "metadata": {},
   "outputs": [],
   "source": [
    "\n",
    "def confidence_interval(data, confidence=0.95):\n",
    "  dist = NormalDist.from_samples(data)\n",
    "  z = NormalDist().inv_cdf((1 + confidence) / 2.)\n",
    "  h = dist.stdev * z / ((len(data) - 1) ** .5)\n",
    "  return dist.mean - h, dist.mean + h"
   ]
  },
  {
   "cell_type": "code",
   "execution_count": 13,
   "metadata": {},
   "outputs": [
    {
     "name": "stdout",
     "output_type": "stream",
     "text": [
      "(76436.83296863642, 80582.57297195765)\n"
     ]
    }
   ],
   "source": [
    "print(confidence_interval(data['Salary']))"
   ]
  },
  {
   "cell_type": "code",
   "execution_count": 18,
   "metadata": {},
   "outputs": [
    {
     "data": {
      "text/plain": [
       "0.8369283766204882"
      ]
     },
     "execution_count": 18,
     "metadata": {},
     "output_type": "execute_result"
    }
   ],
   "source": [
    "women = data.query('Gender == \"Female\"')['Salary']\n",
    "men = data.query('Gender == \"Male\"')['Salary']\n",
    "\n",
    "t, p = scipy.stats.ttest_ind(women, men, equal_var=False)\n",
    "t\n"
   ]
  },
  {
   "cell_type": "code",
   "execution_count": 25,
   "metadata": {},
   "outputs": [
    {
     "data": {
      "text/plain": [
       "(80556.05095541402, 75145.5497382199)"
      ]
     },
     "execution_count": 25,
     "metadata": {},
     "output_type": "execute_result"
    }
   ],
   "source": [
    "cus1 = data.query('Customer == 1')['Salary']\n",
    "cus2 = data.query('Customer == 0')['Salary']\n",
    "(cus1.mean(), cus2.mean())\n"
   ]
  },
  {
   "cell_type": "code",
   "execution_count": 24,
   "metadata": {},
   "outputs": [
    {
     "data": {
      "text/plain": [
       "(2.5783370535400754, 0.01008661178472906)"
      ]
     },
     "execution_count": 24,
     "metadata": {},
     "output_type": "execute_result"
    }
   ],
   "source": [
    "t, p = scipy.stats.ttest_ind(cus1, cus2, equal_var=False)\n",
    "(t, p)"
   ]
  },
  {
   "cell_type": "code",
   "execution_count": 28,
   "metadata": {},
   "outputs": [
    {
     "data": {
      "text/plain": [
       "0.06327390627346907"
      ]
     },
     "execution_count": 28,
     "metadata": {},
     "output_type": "execute_result"
    }
   ],
   "source": [
    "s1 = data.query('Department == \"IT\"')['Salary']\n",
    "s2 = data.query('Department == \"Sales\"')['Salary']\n",
    "t, p = scipy.stats.ttest_ind(s1, s2, equal_var=False)\n",
    "p\n"
   ]
  },
  {
   "cell_type": "code",
   "execution_count": 32,
   "metadata": {},
   "outputs": [
    {
     "data": {
      "text/plain": [
       "0.21506196126246208"
      ]
     },
     "execution_count": 32,
     "metadata": {},
     "output_type": "execute_result"
    }
   ],
   "source": [
    "salary = data['Salary']\n",
    "tenure = data['Tenure']\n",
    "\n",
    "slope, intercept, r_value, p_value, std_err = scipy.stats.linregress(tenure, salary)\n",
    "r_value * r_value"
   ]
  },
  {
   "cell_type": "code",
   "execution_count": 33,
   "metadata": {},
   "outputs": [
    {
     "data": {
      "text/plain": [
       "(2756.993673491282, 55408.27974380522)"
      ]
     },
     "execution_count": 33,
     "metadata": {},
     "output_type": "execute_result"
    }
   ],
   "source": [
    "(slope, intercept)"
   ]
  },
  {
   "cell_type": "code",
   "execution_count": 44,
   "metadata": {},
   "outputs": [
    {
     "data": {
      "text/html": [
       "<div>\n",
       "<style scoped>\n",
       "    .dataframe tbody tr th:only-of-type {\n",
       "        vertical-align: middle;\n",
       "    }\n",
       "\n",
       "    .dataframe tbody tr th {\n",
       "        vertical-align: top;\n",
       "    }\n",
       "\n",
       "    .dataframe thead th {\n",
       "        text-align: right;\n",
       "    }\n",
       "</style>\n",
       "<table border=\"1\" class=\"dataframe\">\n",
       "  <thead>\n",
       "    <tr style=\"text-align: right;\">\n",
       "      <th></th>\n",
       "      <th>Emp_ID</th>\n",
       "      <th>Department</th>\n",
       "      <th>Title</th>\n",
       "      <th>Salary</th>\n",
       "      <th>Gender</th>\n",
       "      <th>Age</th>\n",
       "      <th>Tenure</th>\n",
       "      <th>Customer</th>\n",
       "      <th>Staff</th>\n",
       "      <th>custom</th>\n",
       "      <th>intercept</th>\n",
       "      <th>female</th>\n",
       "    </tr>\n",
       "  </thead>\n",
       "  <tbody>\n",
       "    <tr>\n",
       "      <th>0</th>\n",
       "      <td>4362</td>\n",
       "      <td>Sales</td>\n",
       "      <td>Senior Manager</td>\n",
       "      <td>81000</td>\n",
       "      <td>Female</td>\n",
       "      <td>43</td>\n",
       "      <td>9</td>\n",
       "      <td>1</td>\n",
       "      <td>19</td>\n",
       "      <td>1</td>\n",
       "      <td>1</td>\n",
       "      <td>1</td>\n",
       "    </tr>\n",
       "    <tr>\n",
       "      <th>1</th>\n",
       "      <td>6366</td>\n",
       "      <td>Sales</td>\n",
       "      <td>Manager</td>\n",
       "      <td>61000</td>\n",
       "      <td>Male</td>\n",
       "      <td>25</td>\n",
       "      <td>2</td>\n",
       "      <td>1</td>\n",
       "      <td>7</td>\n",
       "      <td>1</td>\n",
       "      <td>1</td>\n",
       "      <td>0</td>\n",
       "    </tr>\n",
       "    <tr>\n",
       "      <th>2</th>\n",
       "      <td>6551</td>\n",
       "      <td>Sales</td>\n",
       "      <td>Director</td>\n",
       "      <td>131000</td>\n",
       "      <td>Male</td>\n",
       "      <td>63</td>\n",
       "      <td>12</td>\n",
       "      <td>1</td>\n",
       "      <td>19</td>\n",
       "      <td>1</td>\n",
       "      <td>1</td>\n",
       "      <td>0</td>\n",
       "    </tr>\n",
       "    <tr>\n",
       "      <th>3</th>\n",
       "      <td>6678</td>\n",
       "      <td>Sales</td>\n",
       "      <td>Manager</td>\n",
       "      <td>71000</td>\n",
       "      <td>Female</td>\n",
       "      <td>37</td>\n",
       "      <td>11</td>\n",
       "      <td>1</td>\n",
       "      <td>6</td>\n",
       "      <td>1</td>\n",
       "      <td>1</td>\n",
       "      <td>1</td>\n",
       "    </tr>\n",
       "    <tr>\n",
       "      <th>4</th>\n",
       "      <td>7040</td>\n",
       "      <td>Sales</td>\n",
       "      <td>Director</td>\n",
       "      <td>125000</td>\n",
       "      <td>Female</td>\n",
       "      <td>64</td>\n",
       "      <td>9</td>\n",
       "      <td>1</td>\n",
       "      <td>22</td>\n",
       "      <td>1</td>\n",
       "      <td>1</td>\n",
       "      <td>1</td>\n",
       "    </tr>\n",
       "  </tbody>\n",
       "</table>\n",
       "</div>"
      ],
      "text/plain": [
       "   Emp_ID Department           Title  Salary  Gender  Age  Tenure  Customer  \\\n",
       "0    4362      Sales  Senior Manager   81000  Female   43       9         1   \n",
       "1    6366      Sales         Manager   61000    Male   25       2         1   \n",
       "2    6551      Sales        Director  131000    Male   63      12         1   \n",
       "3    6678      Sales         Manager   71000  Female   37      11         1   \n",
       "4    7040      Sales        Director  125000  Female   64       9         1   \n",
       "\n",
       "   Staff  custom  intercept  female  \n",
       "0     19       1          1       1  \n",
       "1      7       1          1       0  \n",
       "2     19       1          1       0  \n",
       "3      6       1          1       1  \n",
       "4     22       1          1       1  "
      ]
     },
     "execution_count": 44,
     "metadata": {},
     "output_type": "execute_result"
    }
   ],
   "source": [
    "data[['no_custom', 'custom']] = pd.get_dummies(data['Customer'])\n",
    "data = data.drop('no_custom', axis = 1)\n",
    "data['female'] = pd.get_dummies(data['Gender'])['Female']\n",
    "data.head()"
   ]
  },
  {
   "cell_type": "code",
   "execution_count": 45,
   "metadata": {},
   "outputs": [
    {
     "name": "stdout",
     "output_type": "stream",
     "text": [
      "Optimization terminated successfully.\n",
      "         Current function value: 0.295400\n",
      "         Iterations 4\n"
     ]
    },
    {
     "name": "stderr",
     "output_type": "stream",
     "text": [
      "/opt/homebrew/lib/python3.10/site-packages/statsmodels/base/model.py:592: HessianInversionWarning: Inverting hessian failed, no bse or cov_params available\n",
      "  warnings.warn('Inverting hessian failed, no bse or cov_params '\n",
      "/opt/homebrew/lib/python3.10/site-packages/statsmodels/base/model.py:592: HessianInversionWarning: Inverting hessian failed, no bse or cov_params available\n",
      "  warnings.warn('Inverting hessian failed, no bse or cov_params '\n",
      "/opt/homebrew/lib/python3.10/site-packages/statsmodels/discrete/discrete_model.py:3511: RuntimeWarning: divide by zero encountered in scalar divide\n",
      "  return 1 - self.llf/self.llnull\n"
     ]
    },
    {
     "data": {
      "text/html": [
       "<table class=\"simpletable\">\n",
       "<caption>Logit Regression Results</caption>\n",
       "<tr>\n",
       "  <th>Dep. Variable:</th>        <td>custom</td>      <th>  No. Observations:  </th>  <td>  1010</td> \n",
       "</tr>\n",
       "<tr>\n",
       "  <th>Model:</th>                 <td>Logit</td>      <th>  Df Residuals:      </th>  <td>  1008</td> \n",
       "</tr>\n",
       "<tr>\n",
       "  <th>Method:</th>                 <td>MLE</td>       <th>  Df Model:          </th>  <td>     1</td> \n",
       "</tr>\n",
       "<tr>\n",
       "  <th>Date:</th>            <td>Sun, 05 Feb 2023</td> <th>  Pseudo R-squ.:     </th>  <td>   inf</td> \n",
       "</tr>\n",
       "<tr>\n",
       "  <th>Time:</th>                <td>16:01:46</td>     <th>  Log-Likelihood:    </th> <td> -298.35</td>\n",
       "</tr>\n",
       "<tr>\n",
       "  <th>converged:</th>             <td>True</td>       <th>  LL-Null:           </th> <td>  0.0000</td>\n",
       "</tr>\n",
       "<tr>\n",
       "  <th>Covariance Type:</th>     <td>nonrobust</td>    <th>  LLR p-value:       </th>  <td> 1.000</td> \n",
       "</tr>\n",
       "</table>\n",
       "<table class=\"simpletable\">\n",
       "<tr>\n",
       "      <td></td>         <th>coef</th>     <th>std err</th>      <th>z</th>      <th>P>|z|</th>  <th>[0.025</th>    <th>0.975]</th>  \n",
       "</tr>\n",
       "<tr>\n",
       "  <th>intercept</th> <td>    0.5291</td> <td>    0.090</td> <td>    5.861</td> <td> 0.000</td> <td>    0.352</td> <td>    0.706</td>\n",
       "</tr>\n",
       "<tr>\n",
       "  <th>female</th>    <td>   -0.0665</td> <td>    0.130</td> <td>   -0.512</td> <td> 0.609</td> <td>   -0.321</td> <td>    0.188</td>\n",
       "</tr>\n",
       "</table>"
      ],
      "text/plain": [
       "<class 'statsmodels.iolib.summary.Summary'>\n",
       "\"\"\"\n",
       "                           Logit Regression Results                           \n",
       "==============================================================================\n",
       "Dep. Variable:                 custom   No. Observations:                 1010\n",
       "Model:                          Logit   Df Residuals:                     1008\n",
       "Method:                           MLE   Df Model:                            1\n",
       "Date:                Sun, 05 Feb 2023   Pseudo R-squ.:                     inf\n",
       "Time:                        16:01:46   Log-Likelihood:                -298.35\n",
       "converged:                       True   LL-Null:                        0.0000\n",
       "Covariance Type:            nonrobust   LLR p-value:                     1.000\n",
       "==============================================================================\n",
       "                 coef    std err          z      P>|z|      [0.025      0.975]\n",
       "------------------------------------------------------------------------------\n",
       "intercept      0.5291      0.090      5.861      0.000       0.352       0.706\n",
       "female        -0.0665      0.130     -0.512      0.609      -0.321       0.188\n",
       "==============================================================================\n",
       "\"\"\""
      ]
     },
     "execution_count": 45,
     "metadata": {},
     "output_type": "execute_result"
    }
   ],
   "source": [
    "data['intercept'] = 1\n",
    "\n",
    "logit_mod = sm.Logit(data['custom'], data[['intercept', 'female']])\n",
    "result = logit_mod.fit()\n",
    "result.summary()"
   ]
  },
  {
   "cell_type": "code",
   "execution_count": 67,
   "metadata": {},
   "outputs": [],
   "source": [
    "data2 = data\n",
    "data2[['Manager', 'Dicector', 'Executive', 'Senior Manager','Technician']] = pd.get_dummies(data2['Title'])\n",
    "data2[['no_custom', 'custom']] = pd.get_dummies(data2['Customer'])\n",
    "data2 = data2.drop('no_custom', axis = 1)\n"
   ]
  },
  {
   "cell_type": "code",
   "execution_count": 66,
   "metadata": {},
   "outputs": [
    {
     "data": {
      "text/html": [
       "<div>\n",
       "<style scoped>\n",
       "    .dataframe tbody tr th:only-of-type {\n",
       "        vertical-align: middle;\n",
       "    }\n",
       "\n",
       "    .dataframe tbody tr th {\n",
       "        vertical-align: top;\n",
       "    }\n",
       "\n",
       "    .dataframe thead th {\n",
       "        text-align: right;\n",
       "    }\n",
       "</style>\n",
       "<table border=\"1\" class=\"dataframe\">\n",
       "  <thead>\n",
       "    <tr style=\"text-align: right;\">\n",
       "      <th></th>\n",
       "      <th>Emp_ID</th>\n",
       "      <th>Department</th>\n",
       "      <th>Title</th>\n",
       "      <th>Salary</th>\n",
       "      <th>Gender</th>\n",
       "      <th>Age</th>\n",
       "      <th>Tenure</th>\n",
       "      <th>Customer</th>\n",
       "      <th>Staff</th>\n",
       "      <th>Manager</th>\n",
       "      <th>Dicector</th>\n",
       "      <th>Executive</th>\n",
       "      <th>Senior Manager</th>\n",
       "      <th>Technician</th>\n",
       "      <th>no_custom</th>\n",
       "      <th>custom</th>\n",
       "    </tr>\n",
       "  </thead>\n",
       "  <tbody>\n",
       "    <tr>\n",
       "      <th>10</th>\n",
       "      <td>7363</td>\n",
       "      <td>IT</td>\n",
       "      <td>Technician</td>\n",
       "      <td>35600</td>\n",
       "      <td>Male</td>\n",
       "      <td>39</td>\n",
       "      <td>7</td>\n",
       "      <td>1</td>\n",
       "      <td>1</td>\n",
       "      <td>0</td>\n",
       "      <td>0</td>\n",
       "      <td>0</td>\n",
       "      <td>0</td>\n",
       "      <td>1</td>\n",
       "      <td>0</td>\n",
       "      <td>1</td>\n",
       "    </tr>\n",
       "    <tr>\n",
       "      <th>662</th>\n",
       "      <td>5890</td>\n",
       "      <td>IT</td>\n",
       "      <td>Manager</td>\n",
       "      <td>78600</td>\n",
       "      <td>Female</td>\n",
       "      <td>40</td>\n",
       "      <td>9</td>\n",
       "      <td>1</td>\n",
       "      <td>11</td>\n",
       "      <td>0</td>\n",
       "      <td>0</td>\n",
       "      <td>1</td>\n",
       "      <td>0</td>\n",
       "      <td>0</td>\n",
       "      <td>0</td>\n",
       "      <td>1</td>\n",
       "    </tr>\n",
       "    <tr>\n",
       "      <th>804</th>\n",
       "      <td>5460</td>\n",
       "      <td>Sales</td>\n",
       "      <td>Senior Manager</td>\n",
       "      <td>92500</td>\n",
       "      <td>Female</td>\n",
       "      <td>32</td>\n",
       "      <td>6</td>\n",
       "      <td>1</td>\n",
       "      <td>14</td>\n",
       "      <td>0</td>\n",
       "      <td>0</td>\n",
       "      <td>0</td>\n",
       "      <td>1</td>\n",
       "      <td>0</td>\n",
       "      <td>0</td>\n",
       "      <td>1</td>\n",
       "    </tr>\n",
       "    <tr>\n",
       "      <th>9</th>\n",
       "      <td>3617</td>\n",
       "      <td>IT</td>\n",
       "      <td>Technician</td>\n",
       "      <td>35600</td>\n",
       "      <td>Male</td>\n",
       "      <td>39</td>\n",
       "      <td>11</td>\n",
       "      <td>0</td>\n",
       "      <td>5</td>\n",
       "      <td>0</td>\n",
       "      <td>0</td>\n",
       "      <td>0</td>\n",
       "      <td>0</td>\n",
       "      <td>1</td>\n",
       "      <td>1</td>\n",
       "      <td>0</td>\n",
       "    </tr>\n",
       "    <tr>\n",
       "      <th>883</th>\n",
       "      <td>4558</td>\n",
       "      <td>Sales</td>\n",
       "      <td>Director</td>\n",
       "      <td>126300</td>\n",
       "      <td>Male</td>\n",
       "      <td>46</td>\n",
       "      <td>8</td>\n",
       "      <td>1</td>\n",
       "      <td>13</td>\n",
       "      <td>1</td>\n",
       "      <td>0</td>\n",
       "      <td>0</td>\n",
       "      <td>0</td>\n",
       "      <td>0</td>\n",
       "      <td>0</td>\n",
       "      <td>1</td>\n",
       "    </tr>\n",
       "    <tr>\n",
       "      <th>465</th>\n",
       "      <td>5569</td>\n",
       "      <td>IT</td>\n",
       "      <td>Manager</td>\n",
       "      <td>67700</td>\n",
       "      <td>Male</td>\n",
       "      <td>23</td>\n",
       "      <td>2</td>\n",
       "      <td>0</td>\n",
       "      <td>6</td>\n",
       "      <td>0</td>\n",
       "      <td>0</td>\n",
       "      <td>1</td>\n",
       "      <td>0</td>\n",
       "      <td>0</td>\n",
       "      <td>1</td>\n",
       "      <td>0</td>\n",
       "    </tr>\n",
       "    <tr>\n",
       "      <th>401</th>\n",
       "      <td>6260</td>\n",
       "      <td>Finance</td>\n",
       "      <td>Manager</td>\n",
       "      <td>64700</td>\n",
       "      <td>Male</td>\n",
       "      <td>31</td>\n",
       "      <td>3</td>\n",
       "      <td>1</td>\n",
       "      <td>11</td>\n",
       "      <td>0</td>\n",
       "      <td>0</td>\n",
       "      <td>1</td>\n",
       "      <td>0</td>\n",
       "      <td>0</td>\n",
       "      <td>0</td>\n",
       "      <td>1</td>\n",
       "    </tr>\n",
       "    <tr>\n",
       "      <th>957</th>\n",
       "      <td>5507</td>\n",
       "      <td>IT</td>\n",
       "      <td>Director</td>\n",
       "      <td>152000</td>\n",
       "      <td>Female</td>\n",
       "      <td>38</td>\n",
       "      <td>5</td>\n",
       "      <td>0</td>\n",
       "      <td>11</td>\n",
       "      <td>1</td>\n",
       "      <td>0</td>\n",
       "      <td>0</td>\n",
       "      <td>0</td>\n",
       "      <td>0</td>\n",
       "      <td>1</td>\n",
       "      <td>0</td>\n",
       "    </tr>\n",
       "    <tr>\n",
       "      <th>538</th>\n",
       "      <td>3580</td>\n",
       "      <td>Sales</td>\n",
       "      <td>Senior Manager</td>\n",
       "      <td>71600</td>\n",
       "      <td>Male</td>\n",
       "      <td>37</td>\n",
       "      <td>13</td>\n",
       "      <td>1</td>\n",
       "      <td>12</td>\n",
       "      <td>0</td>\n",
       "      <td>0</td>\n",
       "      <td>0</td>\n",
       "      <td>1</td>\n",
       "      <td>0</td>\n",
       "      <td>0</td>\n",
       "      <td>1</td>\n",
       "    </tr>\n",
       "    <tr>\n",
       "      <th>566</th>\n",
       "      <td>1780</td>\n",
       "      <td>Sales</td>\n",
       "      <td>Senior Manager</td>\n",
       "      <td>73000</td>\n",
       "      <td>Female</td>\n",
       "      <td>33</td>\n",
       "      <td>11</td>\n",
       "      <td>1</td>\n",
       "      <td>10</td>\n",
       "      <td>0</td>\n",
       "      <td>0</td>\n",
       "      <td>0</td>\n",
       "      <td>1</td>\n",
       "      <td>0</td>\n",
       "      <td>0</td>\n",
       "      <td>1</td>\n",
       "    </tr>\n",
       "    <tr>\n",
       "      <th>47</th>\n",
       "      <td>8532</td>\n",
       "      <td>IT</td>\n",
       "      <td>Technician</td>\n",
       "      <td>40200</td>\n",
       "      <td>Female</td>\n",
       "      <td>35</td>\n",
       "      <td>5</td>\n",
       "      <td>1</td>\n",
       "      <td>5</td>\n",
       "      <td>0</td>\n",
       "      <td>0</td>\n",
       "      <td>0</td>\n",
       "      <td>0</td>\n",
       "      <td>1</td>\n",
       "      <td>0</td>\n",
       "      <td>1</td>\n",
       "    </tr>\n",
       "    <tr>\n",
       "      <th>575</th>\n",
       "      <td>4886</td>\n",
       "      <td>IT</td>\n",
       "      <td>Manager</td>\n",
       "      <td>73200</td>\n",
       "      <td>Female</td>\n",
       "      <td>21</td>\n",
       "      <td>1</td>\n",
       "      <td>0</td>\n",
       "      <td>5</td>\n",
       "      <td>0</td>\n",
       "      <td>0</td>\n",
       "      <td>1</td>\n",
       "      <td>0</td>\n",
       "      <td>0</td>\n",
       "      <td>1</td>\n",
       "      <td>0</td>\n",
       "    </tr>\n",
       "    <tr>\n",
       "      <th>138</th>\n",
       "      <td>4718</td>\n",
       "      <td>Sales</td>\n",
       "      <td>Technician</td>\n",
       "      <td>50600</td>\n",
       "      <td>Male</td>\n",
       "      <td>41</td>\n",
       "      <td>12</td>\n",
       "      <td>1</td>\n",
       "      <td>1</td>\n",
       "      <td>0</td>\n",
       "      <td>0</td>\n",
       "      <td>0</td>\n",
       "      <td>0</td>\n",
       "      <td>1</td>\n",
       "      <td>0</td>\n",
       "      <td>1</td>\n",
       "    </tr>\n",
       "    <tr>\n",
       "      <th>266</th>\n",
       "      <td>5727</td>\n",
       "      <td>Sales</td>\n",
       "      <td>Manager</td>\n",
       "      <td>56400</td>\n",
       "      <td>Male</td>\n",
       "      <td>24</td>\n",
       "      <td>2</td>\n",
       "      <td>1</td>\n",
       "      <td>10</td>\n",
       "      <td>0</td>\n",
       "      <td>0</td>\n",
       "      <td>1</td>\n",
       "      <td>0</td>\n",
       "      <td>0</td>\n",
       "      <td>0</td>\n",
       "      <td>1</td>\n",
       "    </tr>\n",
       "    <tr>\n",
       "      <th>62</th>\n",
       "      <td>5864</td>\n",
       "      <td>Finance</td>\n",
       "      <td>Technician</td>\n",
       "      <td>41600</td>\n",
       "      <td>Male</td>\n",
       "      <td>37</td>\n",
       "      <td>7</td>\n",
       "      <td>0</td>\n",
       "      <td>5</td>\n",
       "      <td>0</td>\n",
       "      <td>0</td>\n",
       "      <td>0</td>\n",
       "      <td>0</td>\n",
       "      <td>1</td>\n",
       "      <td>1</td>\n",
       "      <td>0</td>\n",
       "    </tr>\n",
       "  </tbody>\n",
       "</table>\n",
       "</div>"
      ],
      "text/plain": [
       "     Emp_ID Department           Title  Salary  Gender  Age  Tenure  Customer  \\\n",
       "10     7363         IT      Technician   35600    Male   39       7         1   \n",
       "662    5890         IT         Manager   78600  Female   40       9         1   \n",
       "804    5460      Sales  Senior Manager   92500  Female   32       6         1   \n",
       "9      3617         IT      Technician   35600    Male   39      11         0   \n",
       "883    4558      Sales        Director  126300    Male   46       8         1   \n",
       "465    5569         IT         Manager   67700    Male   23       2         0   \n",
       "401    6260    Finance         Manager   64700    Male   31       3         1   \n",
       "957    5507         IT        Director  152000  Female   38       5         0   \n",
       "538    3580      Sales  Senior Manager   71600    Male   37      13         1   \n",
       "566    1780      Sales  Senior Manager   73000  Female   33      11         1   \n",
       "47     8532         IT      Technician   40200  Female   35       5         1   \n",
       "575    4886         IT         Manager   73200  Female   21       1         0   \n",
       "138    4718      Sales      Technician   50600    Male   41      12         1   \n",
       "266    5727      Sales         Manager   56400    Male   24       2         1   \n",
       "62     5864    Finance      Technician   41600    Male   37       7         0   \n",
       "\n",
       "     Staff  Manager  Dicector  Executive  Senior Manager  Technician  \\\n",
       "10       1        0         0          0               0           1   \n",
       "662     11        0         0          1               0           0   \n",
       "804     14        0         0          0               1           0   \n",
       "9        5        0         0          0               0           1   \n",
       "883     13        1         0          0               0           0   \n",
       "465      6        0         0          1               0           0   \n",
       "401     11        0         0          1               0           0   \n",
       "957     11        1         0          0               0           0   \n",
       "538     12        0         0          0               1           0   \n",
       "566     10        0         0          0               1           0   \n",
       "47       5        0         0          0               0           1   \n",
       "575      5        0         0          1               0           0   \n",
       "138      1        0         0          0               0           1   \n",
       "266     10        0         0          1               0           0   \n",
       "62       5        0         0          0               0           1   \n",
       "\n",
       "     no_custom  custom  \n",
       "10           0       1  \n",
       "662          0       1  \n",
       "804          0       1  \n",
       "9            1       0  \n",
       "883          0       1  \n",
       "465          1       0  \n",
       "401          0       1  \n",
       "957          1       0  \n",
       "538          0       1  \n",
       "566          0       1  \n",
       "47           0       1  \n",
       "575          1       0  \n",
       "138          0       1  \n",
       "266          0       1  \n",
       "62           1       0  "
      ]
     },
     "execution_count": 66,
     "metadata": {},
     "output_type": "execute_result"
    }
   ],
   "source": [
    "data2.sample(15)"
   ]
  },
  {
   "cell_type": "code",
   "execution_count": 71,
   "metadata": {},
   "outputs": [
    {
     "name": "stdout",
     "output_type": "stream",
     "text": [
      "Optimization terminated successfully.\n",
      "         Current function value: 0.293650\n",
      "         Iterations 9\n"
     ]
    },
    {
     "name": "stderr",
     "output_type": "stream",
     "text": [
      "/opt/homebrew/lib/python3.10/site-packages/statsmodels/base/model.py:592: HessianInversionWarning: Inverting hessian failed, no bse or cov_params available\n",
      "  warnings.warn('Inverting hessian failed, no bse or cov_params '\n",
      "/opt/homebrew/lib/python3.10/site-packages/statsmodels/base/model.py:592: HessianInversionWarning: Inverting hessian failed, no bse or cov_params available\n",
      "  warnings.warn('Inverting hessian failed, no bse or cov_params '\n",
      "/opt/homebrew/lib/python3.10/site-packages/statsmodels/discrete/discrete_model.py:3511: RuntimeWarning: divide by zero encountered in scalar divide\n",
      "  return 1 - self.llf/self.llnull\n"
     ]
    },
    {
     "data": {
      "text/html": [
       "<table class=\"simpletable\">\n",
       "<tr>\n",
       "        <td>Model:</td>              <td>Logit</td>      <td>Pseudo R-squared:</td>    <td>inf</td>  \n",
       "</tr>\n",
       "<tr>\n",
       "  <td>Dependent Variable:</td>      <td>custom</td>            <td>AIC:</td>        <td>605.1732</td>\n",
       "</tr>\n",
       "<tr>\n",
       "         <td>Date:</td>        <td>2023-02-05 16:31</td>       <td>BIC:</td>        <td>634.6794</td>\n",
       "</tr>\n",
       "<tr>\n",
       "   <td>No. Observations:</td>        <td>1010</td>        <td>Log-Likelihood:</td>   <td>-296.59</td>\n",
       "</tr>\n",
       "<tr>\n",
       "       <td>Df Model:</td>              <td>5</td>            <td>LL-Null:</td>       <td>0.0000</td> \n",
       "</tr>\n",
       "<tr>\n",
       "     <td>Df Residuals:</td>          <td>1004</td>         <td>LLR p-value:</td>     <td>1.0000</td> \n",
       "</tr>\n",
       "<tr>\n",
       "      <td>Converged:</td>           <td>1.0000</td>           <td>Scale:</td>        <td>1.0000</td> \n",
       "</tr>\n",
       "<tr>\n",
       "    <td>No. Iterations:</td>        <td>9.0000</td>              <td></td>              <td></td>    \n",
       "</tr>\n",
       "</table>\n",
       "<table class=\"simpletable\">\n",
       "<tr>\n",
       "         <td></td>         <th>Coef.</th>    <th>Std.Err.</th>      <th>z</th>     <th>P>|z|</th>    <th>[0.025</th>        <th>0.975]</th>   \n",
       "</tr>\n",
       "<tr>\n",
       "  <th>intercept</th>      <td>0.4651</td>  <td>3313798.9200</td> <td>0.0000</td>  <td>1.0000</td> <td>-6494926.0701</td> <td>6494927.0003</td>\n",
       "</tr>\n",
       "<tr>\n",
       "  <th>Manager</th>        <td>0.5282</td>  <td>3313798.9200</td> <td>0.0000</td>  <td>1.0000</td> <td>-6494926.0070</td> <td>6494927.0634</td>\n",
       "</tr>\n",
       "<tr>\n",
       "  <th>Dicector</th>       <td>0.0458</td>  <td>3313798.9200</td> <td>0.0000</td>  <td>1.0000</td> <td>-6494926.4894</td> <td>6494926.5810</td>\n",
       "</tr>\n",
       "<tr>\n",
       "  <th>Executive</th>      <td>-0.1404</td> <td>3313798.9200</td> <td>-0.0000</td> <td>1.0000</td> <td>-6494926.6756</td> <td>6494926.3948</td>\n",
       "</tr>\n",
       "<tr>\n",
       "  <th>Senior Manager</th> <td>0.0383</td>  <td>3313798.9200</td> <td>0.0000</td>  <td>1.0000</td> <td>-6494926.4969</td> <td>6494926.5735</td>\n",
       "</tr>\n",
       "<tr>\n",
       "  <th>Technician</th>     <td>-0.0068</td> <td>3313798.9200</td> <td>-0.0000</td> <td>1.0000</td> <td>-6494926.5420</td> <td>6494926.5285</td>\n",
       "</tr>\n",
       "</table>"
      ],
      "text/plain": [
       "<class 'statsmodels.iolib.summary2.Summary'>\n",
       "\"\"\"\n",
       "                               Results: Logit\n",
       "=============================================================================\n",
       "Model:                    Logit                Pseudo R-squared:     inf     \n",
       "Dependent Variable:       custom               AIC:                  605.1732\n",
       "Date:                     2023-02-05 16:31     BIC:                  634.6794\n",
       "No. Observations:         1010                 Log-Likelihood:       -296.59 \n",
       "Df Model:                 5                    LL-Null:              0.0000  \n",
       "Df Residuals:             1004                 LLR p-value:          1.0000  \n",
       "Converged:                1.0000               Scale:                1.0000  \n",
       "No. Iterations:           9.0000                                             \n",
       "-----------------------------------------------------------------------------\n",
       "                Coef.    Std.Err.      z    P>|z|      [0.025       0.975]   \n",
       "-----------------------------------------------------------------------------\n",
       "intercept       0.4651 3313798.9200  0.0000 1.0000 -6494926.0701 6494927.0003\n",
       "Manager         0.5282 3313798.9200  0.0000 1.0000 -6494926.0070 6494927.0634\n",
       "Dicector        0.0458 3313798.9200  0.0000 1.0000 -6494926.4894 6494926.5810\n",
       "Executive      -0.1404 3313798.9200 -0.0000 1.0000 -6494926.6756 6494926.3948\n",
       "Senior Manager  0.0383 3313798.9200  0.0000 1.0000 -6494926.4969 6494926.5735\n",
       "Technician     -0.0068 3313798.9200 -0.0000 1.0000 -6494926.5420 6494926.5285\n",
       "=============================================================================\n",
       "\n",
       "\"\"\""
      ]
     },
     "execution_count": 71,
     "metadata": {},
     "output_type": "execute_result"
    }
   ],
   "source": [
    "data2['intercept'] = 1\n",
    "\n",
    "logit_mod = sm.Logit(data2['custom'], data2[['intercept', 'Manager', 'Dicector', 'Executive', 'Senior Manager','Technician']])\n",
    "result = logit_mod.fit()\n",
    "result.summary2()"
   ]
  },
  {
   "cell_type": "code",
   "execution_count": 69,
   "metadata": {},
   "outputs": [
    {
     "data": {
      "text/plain": [
       "intercept         1.592111\n",
       "Manager           1.695861\n",
       "Dicector          1.046828\n",
       "Executive         0.869011\n",
       "Senior Manager    1.039001\n",
       "Technician        0.993269\n",
       "dtype: float64"
      ]
     },
     "execution_count": 69,
     "metadata": {},
     "output_type": "execute_result"
    }
   ],
   "source": [
    "np.exp(result.params)"
   ]
  },
  {
   "cell_type": "code",
   "execution_count": 63,
   "metadata": {},
   "outputs": [
    {
     "data": {
      "text/plain": [
       "intercept         0.628097\n",
       "Manager           0.589671\n",
       "Dicector          0.955267\n",
       "Executive         1.150734\n",
       "Senior Manager    0.962463\n",
       "Technician        1.006776\n",
       "dtype: float64"
      ]
     },
     "execution_count": 63,
     "metadata": {},
     "output_type": "execute_result"
    }
   ],
   "source": [
    "1/_"
   ]
  },
  {
   "cell_type": "code",
   "execution_count": 70,
   "metadata": {},
   "outputs": [
    {
     "data": {
      "text/html": [
       "<div>\n",
       "<style scoped>\n",
       "    .dataframe tbody tr th:only-of-type {\n",
       "        vertical-align: middle;\n",
       "    }\n",
       "\n",
       "    .dataframe tbody tr th {\n",
       "        vertical-align: top;\n",
       "    }\n",
       "\n",
       "    .dataframe thead th {\n",
       "        text-align: right;\n",
       "    }\n",
       "</style>\n",
       "<table border=\"1\" class=\"dataframe\">\n",
       "  <thead>\n",
       "    <tr style=\"text-align: right;\">\n",
       "      <th></th>\n",
       "      <th>Emp_ID</th>\n",
       "      <th>Department</th>\n",
       "      <th>Title</th>\n",
       "      <th>Salary</th>\n",
       "      <th>Gender</th>\n",
       "      <th>Age</th>\n",
       "      <th>Tenure</th>\n",
       "      <th>Customer</th>\n",
       "      <th>Staff</th>\n",
       "      <th>Manager</th>\n",
       "      <th>Dicector</th>\n",
       "      <th>Executive</th>\n",
       "      <th>Senior Manager</th>\n",
       "      <th>Technician</th>\n",
       "      <th>custom</th>\n",
       "      <th>intercept</th>\n",
       "    </tr>\n",
       "  </thead>\n",
       "  <tbody>\n",
       "    <tr>\n",
       "      <th>0</th>\n",
       "      <td>4362</td>\n",
       "      <td>Sales</td>\n",
       "      <td>Senior Manager</td>\n",
       "      <td>81000</td>\n",
       "      <td>Female</td>\n",
       "      <td>43</td>\n",
       "      <td>9</td>\n",
       "      <td>1</td>\n",
       "      <td>19</td>\n",
       "      <td>0</td>\n",
       "      <td>0</td>\n",
       "      <td>0</td>\n",
       "      <td>1</td>\n",
       "      <td>0</td>\n",
       "      <td>1</td>\n",
       "      <td>1</td>\n",
       "    </tr>\n",
       "    <tr>\n",
       "      <th>1</th>\n",
       "      <td>6366</td>\n",
       "      <td>Sales</td>\n",
       "      <td>Manager</td>\n",
       "      <td>61000</td>\n",
       "      <td>Male</td>\n",
       "      <td>25</td>\n",
       "      <td>2</td>\n",
       "      <td>1</td>\n",
       "      <td>7</td>\n",
       "      <td>0</td>\n",
       "      <td>0</td>\n",
       "      <td>1</td>\n",
       "      <td>0</td>\n",
       "      <td>0</td>\n",
       "      <td>1</td>\n",
       "      <td>1</td>\n",
       "    </tr>\n",
       "    <tr>\n",
       "      <th>2</th>\n",
       "      <td>6551</td>\n",
       "      <td>Sales</td>\n",
       "      <td>Director</td>\n",
       "      <td>131000</td>\n",
       "      <td>Male</td>\n",
       "      <td>63</td>\n",
       "      <td>12</td>\n",
       "      <td>1</td>\n",
       "      <td>19</td>\n",
       "      <td>1</td>\n",
       "      <td>0</td>\n",
       "      <td>0</td>\n",
       "      <td>0</td>\n",
       "      <td>0</td>\n",
       "      <td>1</td>\n",
       "      <td>1</td>\n",
       "    </tr>\n",
       "    <tr>\n",
       "      <th>3</th>\n",
       "      <td>6678</td>\n",
       "      <td>Sales</td>\n",
       "      <td>Manager</td>\n",
       "      <td>71000</td>\n",
       "      <td>Female</td>\n",
       "      <td>37</td>\n",
       "      <td>11</td>\n",
       "      <td>1</td>\n",
       "      <td>6</td>\n",
       "      <td>0</td>\n",
       "      <td>0</td>\n",
       "      <td>1</td>\n",
       "      <td>0</td>\n",
       "      <td>0</td>\n",
       "      <td>1</td>\n",
       "      <td>1</td>\n",
       "    </tr>\n",
       "    <tr>\n",
       "      <th>4</th>\n",
       "      <td>7040</td>\n",
       "      <td>Sales</td>\n",
       "      <td>Director</td>\n",
       "      <td>125000</td>\n",
       "      <td>Female</td>\n",
       "      <td>64</td>\n",
       "      <td>9</td>\n",
       "      <td>1</td>\n",
       "      <td>22</td>\n",
       "      <td>1</td>\n",
       "      <td>0</td>\n",
       "      <td>0</td>\n",
       "      <td>0</td>\n",
       "      <td>0</td>\n",
       "      <td>1</td>\n",
       "      <td>1</td>\n",
       "    </tr>\n",
       "  </tbody>\n",
       "</table>\n",
       "</div>"
      ],
      "text/plain": [
       "   Emp_ID Department           Title  Salary  Gender  Age  Tenure  Customer  \\\n",
       "0    4362      Sales  Senior Manager   81000  Female   43       9         1   \n",
       "1    6366      Sales         Manager   61000    Male   25       2         1   \n",
       "2    6551      Sales        Director  131000    Male   63      12         1   \n",
       "3    6678      Sales         Manager   71000  Female   37      11         1   \n",
       "4    7040      Sales        Director  125000  Female   64       9         1   \n",
       "\n",
       "   Staff  Manager  Dicector  Executive  Senior Manager  Technician  custom  \\\n",
       "0     19        0         0          0               1           0       1   \n",
       "1      7        0         0          1               0           0       1   \n",
       "2     19        1         0          0               0           0       1   \n",
       "3      6        0         0          1               0           0       1   \n",
       "4     22        1         0          0               0           0       1   \n",
       "\n",
       "   intercept  \n",
       "0          1  \n",
       "1          1  \n",
       "2          1  \n",
       "3          1  \n",
       "4          1  "
      ]
     },
     "execution_count": 70,
     "metadata": {},
     "output_type": "execute_result"
    }
   ],
   "source": [
    "data2.head()"
   ]
  },
  {
   "cell_type": "code",
   "execution_count": 74,
   "metadata": {},
   "outputs": [
    {
     "name": "stdout",
     "output_type": "stream",
     "text": [
      "Title\n",
      "Director          108\n",
      "Executive           5\n",
      "Manager           202\n",
      "Senior Manager    177\n",
      "Technician        136\n",
      "Name: Customer, dtype: int64\n"
     ]
    }
   ],
   "source": [
    "data3 = data\n",
    "print(data3.groupby('Title')['Customer'].sum())"
   ]
  },
  {
   "cell_type": "code",
   "execution_count": 75,
   "metadata": {},
   "outputs": [
    {
     "name": "stdout",
     "output_type": "stream",
     "text": [
      "                 Emp_ID    Salary    Age  Tenure  Customer  Staff  Manager  \\\n",
      "Title                                                                        \n",
      "Director         792770  21216900   7540    1923       108   2546      148   \n",
      "Executive         34481   1652800    479     162         5    386        0   \n",
      "Manager         1867430  22698600  10829    1940       202   2521        0   \n",
      "Senior Manager  1589818  23167000  12219    3099       177   3574        0   \n",
      "Technician      1175004  10559500   7014    1339       136    587        0   \n",
      "\n",
      "                Dicector  Executive  Senior Manager  Technician  no_custom  \\\n",
      "Title                                                                        \n",
      "Director               0          0               0           0         40   \n",
      "Executive              8          0               0           0          3   \n",
      "Manager                0        348               0           0        146   \n",
      "Senior Manager         0          0             284           0        107   \n",
      "Technician             0          0               0         222         86   \n",
      "\n",
      "                custom  \n",
      "Title                   \n",
      "Director           108  \n",
      "Executive            5  \n",
      "Manager            202  \n",
      "Senior Manager     177  \n",
      "Technician         136  \n"
     ]
    },
    {
     "name": "stderr",
     "output_type": "stream",
     "text": [
      "/var/folders/jj/wwz8qyq55hd4g3_rdkggc7900000gn/T/ipykernel_57686/4220823498.py:1: FutureWarning: The default value of numeric_only in DataFrameGroupBy.sum is deprecated. In a future version, numeric_only will default to False. Either specify numeric_only or select only columns which should be valid for the function.\n",
      "  print(data3.groupby('Title').sum())\n"
     ]
    }
   ],
   "source": [
    "print(data3.groupby('Title').sum())"
   ]
  },
  {
   "cell_type": "code",
   "execution_count": 77,
   "metadata": {},
   "outputs": [],
   "source": [
    "from sklearn.linear_model import LinearRegression"
   ]
  },
  {
   "cell_type": "code",
   "execution_count": 78,
   "metadata": {},
   "outputs": [
    {
     "name": "stdout",
     "output_type": "stream",
     "text": [
      "0.583589406705175\n"
     ]
    }
   ],
   "source": [
    "data4 = data\n",
    "model = LinearRegression()\n",
    "\n",
    "#define predictor and response variables\n",
    "X, y = data4[[\"Age\", \"Staff\", \"Customer\"]], data4[[\"Salary\"]]\n",
    "\n",
    "#fit regression model\n",
    "model.fit(X, y)\n",
    "\n",
    "#calculate R-squared of regression model\n",
    "r_squared = model.score(X, y)\n",
    "\n",
    "#view R-squared value\n",
    "print(r_squared)"
   ]
  }
 ],
 "metadata": {
  "kernelspec": {
   "display_name": "Python 3",
   "language": "python",
   "name": "python3"
  },
  "language_info": {
   "codemirror_mode": {
    "name": "ipython",
    "version": 3
   },
   "file_extension": ".py",
   "mimetype": "text/x-python",
   "name": "python",
   "nbconvert_exporter": "python",
   "pygments_lexer": "ipython3",
   "version": "3.10.9"
  },
  "orig_nbformat": 4,
  "vscode": {
   "interpreter": {
    "hash": "b0fa6594d8f4cbf19f97940f81e996739fb7646882a419484c72d19e05852a7e"
   }
  }
 },
 "nbformat": 4,
 "nbformat_minor": 2
}
